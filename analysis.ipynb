{
 "cells": [
  {
   "cell_type": "code",
   "execution_count": 1,
   "id": "a7172c71-1da6-4501-a5a3-74df89d73cc8",
   "metadata": {},
   "outputs": [
    {
     "name": "stderr",
     "output_type": "stream",
     "text": [
      "/homes/gws/mingyulu/miniconda3/envs/torch_gpu/lib/python3.8/site-packages/tqdm/auto.py:21: TqdmWarning: IProgress not found. Please update jupyter and ipywidgets. See https://ipywidgets.readthedocs.io/en/stable/user_install.html\n",
      "  from .autonotebook import tqdm as notebook_tqdm\n"
     ]
    }
   ],
   "source": [
    "import pandas as pd\n",
    "import numpy as np\n",
    "import pickle as pkl\n",
    "import torch\n",
    "import torch.nn as nn\n",
    "import torch.nn.functional as F\n",
    "import torch.optim as optim\n",
    "\n",
    "import math\n",
    "import matplotlib.pyplot as plt\n",
    "import seaborn as sns\n",
    "\n",
    "from torch.utils.data import TensorDataset, DataLoader\n",
    "from torchmetrics import R2Score,PearsonCorrCoef"
   ]
  },
  {
   "cell_type": "code",
   "execution_count": 2,
   "id": "579d8e88-1591-4ace-81c0-24100d457702",
   "metadata": {},
   "outputs": [],
   "source": [
    "df = pd.read_pickle(\"/data/cong/connectome.pkl\")\n",
    "df.rename(columns={ df.columns[0]: \"Subject\" }, inplace = True)\n",
    "\n",
    "label = pd.read_csv(\"data/cognition_scores.csv\")\n",
    "label.rename(columns={ label.columns[0]: \"Subject\" }, inplace = True)\n",
    "\n",
    "demographics = pd.read_csv(\"data/demographic.csv\")\n",
    "\n",
    "df = df.merge(demographics[[\"Gender\",\"Subject\"]], how='left', on='Subject')"
   ]
  },
  {
   "cell_type": "code",
   "execution_count": 3,
   "id": "726b98c2-68f6-4143-8656-1568de3afca2",
   "metadata": {},
   "outputs": [],
   "source": [
    "class Net(nn.Module):\n",
    "    \n",
    "    def __init__(self, input_size, hidden_size):\n",
    "        \n",
    "        super(Net, self).__init__()\n",
    "        \n",
    "        self.negative_slope = 0.05\n",
    "        self.kernel_size = 2\n",
    "        self.layers = nn.ModuleList()\n",
    "        \n",
    "        self.layers.append(nn.Linear(input_size, hidden_size))\n",
    "        self.layers.append(nn.Linear(hidden_size//self.kernel_size, hidden_size//(self.kernel_size)))        \n",
    "        self.layers.append(nn.Linear(hidden_size//(self.kernel_size**2), 100))\n",
    "        self.layers.append(nn.Linear(100, 1))\n",
    "        \n",
    "        self.__weights_init_normal(\"kaiming\")\n",
    "        \n",
    "    def forward(self, x):\n",
    "        \n",
    "        for i in range(2):\n",
    "            x  = self.layers[i](x)\n",
    "            x = F.leaky_relu(x, self.negative_slope)\n",
    "            x = F.max_pool1d(x, self.kernel_size)\n",
    "\n",
    "        for i in range(2, len(self.layers)):\n",
    "            x  = self.layers[i](x)\n",
    "            x = F.leaky_relu(x, self.negative_slope)\n",
    "            \n",
    "        return x\n",
    "    \n",
    "    def __weights_init_normal(self,  init_type):\n",
    "        \"\"\"\n",
    "            Kaiming initialization:\n",
    "\n",
    "            normal distribution with var = 2/dh) or var = 2/(1+ alpha**2)dh\n",
    "        \"\"\"\n",
    "        \n",
    "        for i in range(len(self.layers)):\n",
    "            layer = self.layers[i]\n",
    "\n",
    "            if isinstance(self.layers[i], nn.Linear):\n",
    "                if init_type == \"kaiming\":    \n",
    "                    nn.init.kaiming_normal_(layer.weight, a = self.negative_slope, nonlinearity = \"leaky_relu\")\n",
    "                    nn.init.constant_(layer.bias, 0)\n",
    "                \n",
    "                elif init_type == \"normal\":\n",
    "                    nn.init.kaiming_normal_(layer.weight, nonlinearity = \"relu\")\n",
    "                    nn.init.constant_(layer.bias, 0)\n",
    "                    \n",
    "                else:\n",
    "                    raise \n",
    "            \n",
    "\n",
    "def r2_loss(output, target):\n",
    "    target_mean = torch.mean(target)\n",
    "    \n",
    "    ss_res = torch.sum((target - output) ** 2)\n",
    "    ss_tot = torch.sum((target - target_mean) ** 2)\n",
    "    \n",
    "    r2 = 1 - ss_res/ss_tot\n",
    "    return r2"
   ]
  },
  {
   "cell_type": "code",
   "execution_count": 4,
   "id": "9fbe6e9c-af14-4404-abf3-c67b7a1b71b4",
   "metadata": {},
   "outputs": [],
   "source": [
    "X = df.iloc[:, 1:]\n",
    "\n",
    "shuffle = np.random.permutation(len(X))\n",
    "test_size = int(len(X) * 0.2)\n",
    "\n",
    "test_idx = shuffle[:test_size]\n",
    "train_idx = shuffle[test_size:]\n",
    "\n",
    "x_train, X_test = X.iloc[train_idx, :], X.iloc[test_idx, :-1].values\n",
    "y_train, y_test = label.iloc[train_idx, 1], label.iloc[ test_idx, 1].values\n",
    "\n",
    "shuffle_val = np.random.permutation(len(x_train))\n",
    "val_size = int(len(x_train) * 0.2)\n",
    "\n",
    "val_idx = shuffle_val[:val_size]\n",
    "train_idx = shuffle_val[val_size:]\n",
    "\n",
    "gender_train, gender_val, gender_test  = x_train.iloc[train_idx, -1].values, x_train.iloc[val_idx, -1].values, X.iloc[test_idx, -1].values\n",
    "\n",
    "x_train, X_val = x_train.iloc[train_idx, :-1].values, x_train.iloc[val_idx,:-1].values\n",
    "y_train, y_val = y_train.iloc[train_idx].values, y_train.iloc[val_idx].values\n",
    "\n",
    "x_train = torch.from_numpy(x_train).float()\n",
    "y_train = torch.from_numpy(y_train).float()\n",
    "\n",
    "X_val = torch.from_numpy(X_val).float()\n",
    "y_val = torch.from_numpy(y_val).float()\n",
    "\n",
    "X_test = torch.from_numpy(X_test).float()\n",
    "y_test = torch.from_numpy(y_test).float()\n"
   ]
  },
  {
   "cell_type": "code",
   "execution_count": null,
   "id": "5e3987c9-9438-4ef2-82a2-d8b71c17a7d2",
   "metadata": {},
   "outputs": [
    {
     "name": "stdout",
     "output_type": "stream",
     "text": [
      "Epoch [1/10], Step [3/3], Training Loss: 56.7208\n",
      "Validation Loss: 71.76071166992188; Pearson correlation - 0.05000000074505806\n",
      "Epoch [2/10], Step [3/3], Training Loss: 43.1808\n",
      "Validation Loss: 41.1708984375; Pearson correlation - 0.07999999821186066\n",
      "Epoch [3/10], Step [3/3], Training Loss: 34.0544\n",
      "Validation Loss: 36.06889724731445; Pearson correlation - 0.11999999731779099\n",
      "Epoch [4/10], Step [3/3], Training Loss: 28.8321\n",
      "Validation Loss: 26.76307487487793; Pearson correlation - 0.17000000178813934\n",
      "Epoch [5/10], Step [3/3], Training Loss: 25.2128\n",
      "Validation Loss: 27.909122467041016; Pearson correlation - 0.17000000178813934\n",
      "Epoch [6/10], Step [3/3], Training Loss: 24.9583\n",
      "Validation Loss: 24.011558532714844; Pearson correlation - 0.15000000596046448\n",
      "Epoch [7/10], Step [3/3], Training Loss: 20.9041\n",
      "Validation Loss: 23.864120483398438; Pearson correlation - 0.14000000059604645\n",
      "Epoch [8/10], Step [3/3], Training Loss: 20.1249\n",
      "Validation Loss: 22.426610946655273; Pearson correlation - 0.12999999523162842\n",
      "Epoch [9/10], Step [3/3], Training Loss: 16.1522\n",
      "Validation Loss: 21.61994171142578; Pearson correlation - 0.12999999523162842\n"
     ]
    }
   ],
   "source": [
    "model = Net(x_train.size()[1], 5000)\n",
    "\n",
    "lr = 1e-4\n",
    "weight_decay = 1e-5\n",
    "num_epochs = 10\n",
    "batch_size = 256\n",
    "\n",
    "dataset = TensorDataset(x_train,y_train) \n",
    "dataloader = DataLoader(dataset, batch_size = batch_size)\n",
    "total_step = len(dataloader)\n",
    "\n",
    "optimizer = optim.Adam(\n",
    "    model.parameters(), \n",
    "    lr=lr,\n",
    "    weight_decay=weight_decay\n",
    ")\n",
    "criterion = nn.MSELoss()\n",
    "eval_metric = PearsonCorrCoef()\n",
    "\n",
    "for epoch in range(num_epochs):\n",
    "    \n",
    "    for i, (x, y) in enumerate(dataloader):      \n",
    "        \n",
    "        pred_y = model(x).flatten()\n",
    "        loss = torch.sqrt(criterion(pred_y, y))\n",
    "\n",
    "        # Adding L1 regularization \n",
    "        # l1_loss = torch.tensor(0).float()\n",
    "        # for param in model.parameters():\n",
    "        #     l1_loss += torch.norm(param, 1)**2\n",
    "        # loss += l1_loss\n",
    "        \n",
    "        optimizer.zero_grad()\n",
    "        loss.backward()\n",
    "        optimizer.step()\n",
    "        \n",
    "        if (i+1) % total_step == 0:\n",
    "            print ('Epoch [{}/{}], Step [{}/{}], Training Loss: {:.4f}'.format(epoch+1, num_epochs, i+1, total_step, loss.item()))\n",
    "            \n",
    "            with torch.no_grad():\n",
    "                \n",
    "                correlation = eval_metric(model(X_val).flatten(), y_val)\n",
    "                pred_val = model(X_val).flatten()\n",
    "                val_loss = torch.sqrt(criterion(pred_val, y_val))\n",
    "\n",
    "                print('Validation Loss: {}; Pearson correlation - {}'.format(val_loss.item(), np.round(correlation, 2)))\n",
    "                "
   ]
  },
  {
   "cell_type": "code",
   "execution_count": 9,
   "id": "646b4e17-6ceb-46a4-85a7-23c8823d54f9",
   "metadata": {},
   "outputs": [
    {
     "name": "stdout",
     "output_type": "stream",
     "text": [
      "Validation Loss: 3.168891348489901; Pearson correlation - 0.14000000059604645\n",
      "tensor(0.1294, grad_fn=<SqueezeBackward0>) tensor(0.1107, grad_fn=<SqueezeBackward0>)\n"
     ]
    },
    {
     "data": {
      "text/plain": [
       "<matplotlib.legend.Legend at 0x7f8821971a90>"
      ]
     },
     "execution_count": 9,
     "metadata": {},
     "output_type": "execute_result"
    },
    {
     "data": {
      "image/png": "[encoded data removed]",
      "text/plain": [
       "<Figure size 432x288 with 1 Axes>"
      ]
     },
     "metadata": {
      "needs_background": "light"
     },
     "output_type": "display_data"
    }
   ],
   "source": [
    "preds = model(X_val).flatten()\n",
    "\n",
    "correlation = eval_metric(model(X_val).flatten(), y_val).detach().numpy()\n",
    "pred_val = model(X_val).flatten()\n",
    "val_loss = torch.sqrt(criterion(pred_val, y_val))\n",
    "\n",
    "print('Validation Loss: {}; Pearson correlation - {}'.format(val_loss.item(), np.round(correlation, 2)))\n",
    "\n",
    "x = y_val[gender_val==\"M\"]\n",
    "y = preds[gender_val==\"M\"].detach().numpy()\n",
    "\n",
    "plt.scatter(x, y, label=\"Male\")\n",
    "\n",
    "z = np.polyfit(x, y, 1)\n",
    "p = np.poly1d(z)\n",
    "plt.plot(x,p(x),\"b--\")\n",
    "\n",
    "x = y_val[gender_val==\"F\"]\n",
    "y = preds[gender_val==\"F\"].detach().numpy()\n",
    "\n",
    "plt.scatter(x, y, label=\"Female\")\n",
    "\n",
    "z = np.polyfit(x, y, 1)\n",
    "p = np.poly1d(z)\n",
    "plt.plot(x,p(x),\"r--\")\n",
    "\n",
    "print(eval_metric(preds[gender_val==\"M\"], y_val[gender_val==\"M\"]), eval_metric(preds[gender_val==\"F\"], y_val[gender_val==\"F\"]))\n",
    "\n",
    "plt.title(\"\")\n",
    "plt.xlabel(\"True Score\")\n",
    "plt.ylabel(\"Predicted Score\")\n",
    "plt.legend()"
   ]
  },
  {
   "cell_type": "code",
   "execution_count": 14,
   "id": "ef8f5a82-0689-4efc-8b03-2ec6bd8ab942",
   "metadata": {},
   "outputs": [
    {
     "name": "stdout",
     "output_type": "stream",
     "text": [
      "Test Loss: 2.6683039967606708; Pearson correlation - 0.10000000149011612\n",
      "MSE: male; tensor(583.0205, grad_fn=<MseLossBackward0>)\n",
      "MSE: female; 516.5004\n"
     ]
    },
    {
     "ename": "NameError",
     "evalue": "name 'r2score' is not defined",
     "output_type": "error",
     "traceback": [
      "\u001b[0;31m---------------------------------------------------------------------------\u001b[0m",
      "\u001b[0;31mNameError\u001b[0m                                 Traceback (most recent call last)",
      "Input \u001b[0;32mIn [14]\u001b[0m, in \u001b[0;36m<cell line: 30>\u001b[0;34m()\u001b[0m\n\u001b[1;32m     27\u001b[0m p \u001b[38;5;241m=\u001b[39m np\u001b[38;5;241m.\u001b[39mpoly1d(z)\n\u001b[1;32m     28\u001b[0m plt\u001b[38;5;241m.\u001b[39mplot(x,p(x),\u001b[38;5;124m\"\u001b[39m\u001b[38;5;124mr--\u001b[39m\u001b[38;5;124m\"\u001b[39m)\n\u001b[0;32m---> 30\u001b[0m \u001b[38;5;28mprint\u001b[39m(\u001b[43mr2score\u001b[49m(preds[gender_test\u001b[38;5;241m==\u001b[39m\u001b[38;5;124m\"\u001b[39m\u001b[38;5;124mM\u001b[39m\u001b[38;5;124m\"\u001b[39m], y_test[gender_test\u001b[38;5;241m==\u001b[39m\u001b[38;5;124m\"\u001b[39m\u001b[38;5;124mM\u001b[39m\u001b[38;5;124m\"\u001b[39m]), r2score(preds[gender_test\u001b[38;5;241m==\u001b[39m\u001b[38;5;124m\"\u001b[39m\u001b[38;5;124mF\u001b[39m\u001b[38;5;124m\"\u001b[39m], y_test[gender_test\u001b[38;5;241m==\u001b[39m\u001b[38;5;124m\"\u001b[39m\u001b[38;5;124mF\u001b[39m\u001b[38;5;124m\"\u001b[39m]))\n\u001b[1;32m     32\u001b[0m plt\u001b[38;5;241m.\u001b[39mxlabel(\u001b[38;5;124m\"\u001b[39m\u001b[38;5;124mTrue Score\u001b[39m\u001b[38;5;124m\"\u001b[39m)\n\u001b[1;32m     33\u001b[0m plt\u001b[38;5;241m.\u001b[39mylabel(\u001b[38;5;124m\"\u001b[39m\u001b[38;5;124mPredicted Score\u001b[39m\u001b[38;5;124m\"\u001b[39m)\n",
      "\u001b[0;31mNameError\u001b[0m: name 'r2score' is not defined"
     ]
    },
    {
     "data": {
      "image/png": "[encoded data removed]",
      "text/plain": [
       "<Figure size 432x288 with 1 Axes>"
      ]
     },
     "metadata": {
      "needs_background": "light"
     },
     "output_type": "display_data"
    }
   ],
   "source": [
    "preds = model(X_test).flatten()\n",
    "test_loss = criterion(preds, y_test)\n",
    "correlation = eval_metric(preds, y_test).detach().numpy()\n",
    "\n",
    "print('Test Loss: {}; Pearson correlation - {}'.format(test_loss.item()/len(preds), np.round(correlation, 2)))\n",
    "\n",
    "x = y_test[gender_test==\"M\"].numpy()\n",
    "y = preds[gender_test==\"M\"].detach().numpy()\n",
    "\n",
    "print(\"MSE: male;\", criterion(y_test[gender_test==\"M\"],preds[gender_test==\"M\"] ))\n",
    "\n",
    "plt.scatter(x, y, label=\"Male\")\n",
    "\n",
    "z = np.polyfit(x, y, 1)\n",
    "p = np.poly1d(z)\n",
    "plt.plot(x,p(x),\"b--\")\n",
    "\n",
    "x = y_test[gender_test==\"F\"].numpy()\n",
    "y = preds[gender_test==\"F\"].detach().numpy()\n",
    "\n",
    "\n",
    "print(\"MSE: female;\", ( np.mean((x - y)**2)))\n",
    "\n",
    "plt.scatter(x, y, label=\"Female\")\n",
    "\n",
    "z = np.polyfit(x, y, 1)\n",
    "p = np.poly1d(z)\n",
    "plt.plot(x,p(x),\"r--\")\n",
    "\n",
    "print(r2score(preds[gender_test==\"M\"], y_test[gender_test==\"M\"]), r2score(preds[gender_test==\"F\"], y_test[gender_test==\"F\"]))\n",
    "\n",
    "plt.xlabel(\"True Score\")\n",
    "plt.ylabel(\"Predicted Score\")\n",
    "plt.legend()"
   ]
  },
  {
   "cell_type": "code",
   "execution_count": null,
   "id": "0d9c845b-3157-4558-9f37-5a0cb78b2b46",
   "metadata": {},
   "outputs": [],
   "source": []
  },
  {
   "cell_type": "code",
   "execution_count": null,
   "id": "e1e8378a-c456-4e7b-b364-01c9cbfac812",
   "metadata": {},
   "outputs": [],
   "source": []
  },
  {
   "cell_type": "code",
   "execution_count": null,
   "id": "60dc6c2c-3ca9-4743-b777-ad9502442b10",
   "metadata": {},
   "outputs": [],
   "source": []
  }
 ],
 "metadata": {
  "kernelspec": {
   "display_name": "Python 3 (ipykernel)",
   "language": "python",
   "name": "python3"
  },
  "language_info": {
   "codemirror_mode": {
    "name": "ipython",
    "version": 3
   },
   "file_extension": ".py",
   "mimetype": "text/x-python",
   "name": "python",
   "nbconvert_exporter": "python",
   "pygments_lexer": "ipython3",
   "version": "3.8.13"
  }
 },
 "nbformat": 4,
 "nbformat_minor": 5
}

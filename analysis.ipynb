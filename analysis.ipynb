{
 "cells": [
  {
   "cell_type": "code",
   "execution_count": 140,
   "id": "a7172c71-1da6-4501-a5a3-74df89d73cc8",
   "metadata": {},
   "outputs": [
    {
     "ename": "ImportError",
     "evalue": "cannot import name 'LogisticRegression' from 'sklearn' (/homes/gws/mingyulu/miniconda3/envs/torch_gpu/lib/python3.8/site-packages/sklearn/__init__.py)",
     "output_type": "error",
     "traceback": [
      "\u001b[0;31m---------------------------------------------------------------------------\u001b[0m",
      "\u001b[0;31mImportError\u001b[0m                               Traceback (most recent call last)",
      "Input \u001b[0;32mIn [140]\u001b[0m, in \u001b[0;36m<cell line: 12>\u001b[0;34m()\u001b[0m\n\u001b[1;32m     10\u001b[0m \u001b[38;5;28;01mimport\u001b[39;00m \u001b[38;5;21;01mmatplotlib\u001b[39;00m\u001b[38;5;21;01m.\u001b[39;00m\u001b[38;5;21;01mpyplot\u001b[39;00m \u001b[38;5;28;01mas\u001b[39;00m \u001b[38;5;21;01mplt\u001b[39;00m\n\u001b[1;32m     11\u001b[0m \u001b[38;5;28;01mimport\u001b[39;00m \u001b[38;5;21;01mseaborn\u001b[39;00m \u001b[38;5;28;01mas\u001b[39;00m \u001b[38;5;21;01msns\u001b[39;00m\n\u001b[0;32m---> 12\u001b[0m \u001b[38;5;28;01mimport\u001b[39;00m \u001b[38;5;21;01mutilities\u001b[39;00m \n\u001b[1;32m     14\u001b[0m \u001b[38;5;28;01mfrom\u001b[39;00m \u001b[38;5;21;01mtorch\u001b[39;00m\u001b[38;5;21;01m.\u001b[39;00m\u001b[38;5;21;01mutils\u001b[39;00m\u001b[38;5;21;01m.\u001b[39;00m\u001b[38;5;21;01mdata\u001b[39;00m \u001b[38;5;28;01mimport\u001b[39;00m TensorDataset, DataLoader\n\u001b[1;32m     15\u001b[0m \u001b[38;5;28;01mfrom\u001b[39;00m \u001b[38;5;21;01mtorchmetrics\u001b[39;00m \u001b[38;5;28;01mimport\u001b[39;00m R2Score,PearsonCorrCoef\n",
      "File \u001b[0;32m~/cse582/utilities.py:4\u001b[0m, in \u001b[0;36m<module>\u001b[0;34m\u001b[0m\n\u001b[1;32m      2\u001b[0m \u001b[38;5;28;01mimport\u001b[39;00m \u001b[38;5;21;01mtorch\u001b[39;00m\n\u001b[1;32m      3\u001b[0m \u001b[38;5;28;01mimport\u001b[39;00m \u001b[38;5;21;01mnumpy\u001b[39;00m \u001b[38;5;28;01mas\u001b[39;00m \u001b[38;5;21;01mnp\u001b[39;00m\n\u001b[0;32m----> 4\u001b[0m \u001b[38;5;28;01mfrom\u001b[39;00m \u001b[38;5;21;01msklearn\u001b[39;00m \u001b[38;5;28;01mimport\u001b[39;00m LogisticRegression\n\u001b[1;32m      7\u001b[0m \u001b[38;5;28;01mdef\u001b[39;00m \u001b[38;5;21mr2_loss\u001b[39m(output, target):\n\u001b[1;32m      8\u001b[0m     target_mean \u001b[38;5;241m=\u001b[39m torch\u001b[38;5;241m.\u001b[39mmean(target)\n",
      "\u001b[0;31mImportError\u001b[0m: cannot import name 'LogisticRegression' from 'sklearn' (/homes/gws/mingyulu/miniconda3/envs/torch_gpu/lib/python3.8/site-packages/sklearn/__init__.py)"
     ]
    }
   ],
   "source": [
    "import pandas as pd\n",
    "import numpy as np\n",
    "import pickle as pkl\n",
    "import torch\n",
    "import torch.nn as nn\n",
    "import torch.nn.functional as F\n",
    "import torch.optim as optim\n",
    "\n",
    "import math\n",
    "import matplotlib.pyplot as plt\n",
    "import seaborn as sns\n",
    "import utilities \n",
    "\n",
    "from torch.utils.data import TensorDataset, DataLoader\n",
    "from torchmetrics import R2Score,PearsonCorrCoef"
   ]
  },
  {
   "cell_type": "code",
   "execution_count": 13,
   "id": "298366fb-cb3a-4fe3-99ad-3cc0e6f1c346",
   "metadata": {},
   "outputs": [],
   "source": [
    "df = pd.read_csv(\"data/connectome_data.csv\")\n",
    "df.rename(columns={ df.columns[0]: \"Subject\" }, inplace = True)\n",
    "df.to_pickle(\"data/connectome.pkl\")"
   ]
  },
  {
   "cell_type": "code",
   "execution_count": 128,
   "id": "579d8e88-1591-4ace-81c0-24100d457702",
   "metadata": {},
   "outputs": [],
   "source": [
    "df = pd.read_pickle(\"data/connectome.pkl\")\n",
    "\n",
    "label = pd.read_csv(\"data/cognition_scores.csv\")\n",
    "label.rename(columns={ label.columns[0]: \"Subject\" }, inplace = True)\n",
    "\n",
    "demographics = pd.read_csv(\"data/demographic.csv\")\n",
    "\n",
    "df = df.merge(demographics[[\"Gender\",\"Subject\"]], how='left', on='Subject')"
   ]
  },
  {
   "cell_type": "code",
   "execution_count": 94,
   "id": "726b98c2-68f6-4143-8656-1568de3afca2",
   "metadata": {},
   "outputs": [],
   "source": [
    "class Net(nn.Module):\n",
    "    \n",
    "    def __init__(self, input_size, hidden_size):\n",
    "        \n",
    "        super(Net, self).__init__()\n",
    "        \n",
    "        self.negative_slope = 0.05\n",
    "        self.kernel_size = 2\n",
    "        self.layers = nn.ModuleList()\n",
    "        \n",
    "        self.layers.append(nn.Linear(input_size, hidden_size))\n",
    "        self.layers.append(nn.Linear(hidden_size//self.kernel_size, hidden_size//(self.kernel_size)))        \n",
    "        self.layers.append(nn.Linear(hidden_size//(self.kernel_size**2), 100))\n",
    "        self.layers.append(nn.Linear(100, 1))\n",
    "        \n",
    "        self.__weights_init_normal(\"kaiming\")\n",
    "        \n",
    "    def forward(self, x):\n",
    "        \n",
    "        for i in range(2):\n",
    "            x  = self.layers[i](x)\n",
    "            x = F.leaky_relu(x, self.negative_slope)\n",
    "            x = F.max_pool1d(x, self.kernel_size)\n",
    "\n",
    "        for i in range(2, len(self.layers)):\n",
    "            x  = self.layers[i](x)\n",
    "            x = F.leaky_relu(x, self.negative_slope)\n",
    "            \n",
    "        return x\n",
    "    \n",
    "    def __weights_init_normal(self,  init_type):\n",
    "        \"\"\"\n",
    "            Kaiming initialization:\n",
    "\n",
    "            normal distribution with var = 2/dh) or var = 2/(1+ alpha**2)dh\n",
    "        \"\"\"\n",
    "        \n",
    "        for i in range(len(self.layers)):\n",
    "            layer = self.layers[i]\n",
    "\n",
    "            if isinstance(self.layers[i], nn.Linear):\n",
    "                if init_type == \"kaiming\":    \n",
    "                    nn.init.kaiming_normal_(layer.weight, a = self.negative_slope, nonlinearity = \"leaky_relu\")\n",
    "                    nn.init.constant_(layer.bias, 0)\n",
    "                \n",
    "                elif init_type == \"normal\":\n",
    "                    nn.init.kaiming_normal_(layer.weight, nonlinearity = \"relu\")\n",
    "                    nn.init.constant_(layer.bias, 0)\n",
    "                    \n",
    "                else:\n",
    "                    raise \n",
    "            \n"
   ]
  },
  {
   "cell_type": "code",
   "execution_count": 129,
   "id": "ca9ab3c9-58ff-4985-a932-48d5b54a8545",
   "metadata": {},
   "outputs": [],
   "source": [
    "class ConnectomeNet(nn.Module):\n",
    "    def __init__(self, input_size, hidden_size):\n",
    "        \n",
    "        super(ConnectomeNet, self).__init__()\n",
    "        \n",
    "        self.layers = nn.Sequential(\n",
    "            nn.Linear(input_size, hidden_size),\n",
    "            nn.LeakyReLU(0.05),\n",
    "            \n",
    "            nn.Linear(hidden_size, hidden_size//2),\n",
    "            nn.LeakyReLU(0.05),\n",
    "            \n",
    "            nn.Linear(hidden_size//2, hidden_size//4),\n",
    "            nn.LeakyReLU(0.05),\n",
    "            \n",
    "            nn.Linear(hidden_size//4, 1)\n",
    "        )\n",
    "        self.__weights_init_normal(\"kaiming\")\n",
    "\n",
    "    def forward(self, x):\n",
    "        return self.layers(x)\n",
    "\n",
    "    def __weights_init_normal(self,  init_type):\n",
    "        for layer in self.layers:\n",
    "            if isinstance(layer, nn.Linear):\n",
    "                if init_type == \"kaiming\":    \n",
    "                    nn.init.kaiming_normal_(layer.weight, a=0.2, nonlinearity=\"leaky_relu\")\n",
    "                    nn.init.constant_(layer.bias, 0)\n"
   ]
  },
  {
   "cell_type": "code",
   "execution_count": 133,
   "id": "9fbe6e9c-af14-4404-abf3-c67b7a1b71b4",
   "metadata": {},
   "outputs": [],
   "source": [
    "from sklearn.model_selection import train_test_split\n",
    "\n",
    "# Convert Gender to 0 and 1\n",
    "X = df.copy()\n",
    "X[\"Gender\"] = np.where(X[\"Gender\"] == \"M\", 1, 0)\n",
    "\n",
    "# Split the data into train and test set\n",
    "x_train, x_test, y_train, y_test = train_test_split(X, label.iloc[:, 1], test_size=0.2, random_state=42)\n",
    "\n",
    "# Further split the training data into training and validation sets\n",
    "x_train, x_val, y_train, y_val = train_test_split(x_train, y_train, test_size=0.2, random_state=42)\n",
    "\n",
    "# Save the Gender feature for later use before converting the rest to PyTorch tensors\n",
    "gender_train = torch.from_numpy(x_train.pop('Gender').values).float()\n",
    "gender_val = torch.from_numpy(x_val.pop('Gender').values).float()\n",
    "gender_test = torch.from_numpy(x_test.pop('Gender').values).float()\n",
    "\n",
    "\n",
    "# Convert pandas dataframe to PyTorch tensor\n",
    "x_train = torch.from_numpy(x_train.values).float()\n",
    "y_train = torch.from_numpy(y_train.values).float()\n",
    "\n",
    "x_val = torch.from_numpy(x_val.values).float()\n",
    "y_val = torch.from_numpy(y_val.values).float()\n",
    "\n",
    "x_test = torch.from_numpy(x_test.values).float()\n",
    "y_test = torch.from_numpy(y_test.values).float()\n"
   ]
  },
  {
   "cell_type": "code",
   "execution_count": 139,
   "id": "5e3987c9-9438-4ef2-82a2-d8b71c17a7d2",
   "metadata": {},
   "outputs": [
    {
     "name": "stdout",
     "output_type": "stream",
     "text": [
      "Epoch [1/30], Step [6/6], Training Loss: 867.4788\n",
      "Validation Loss: 683.2861328125; Pearson correlation: -0.03999999910593033; r^2: -2262.730712890625\n",
      "Epoch [2/30], Step [6/6], Training Loss: 122.0210\n",
      "Validation Loss: 70.37953186035156; Pearson correlation: 0.03999999910593033; r^2: -23.016643524169922\n",
      "Epoch [3/30], Step [6/6], Training Loss: 314.9402\n",
      "Validation Loss: 275.2693176269531; Pearson correlation: 0.03999999910593033; r^2: -366.39666748046875\n",
      "Epoch [4/30], Step [6/6], Training Loss: 114.0491\n",
      "Validation Loss: 71.37550354003906; Pearson correlation: 0.03999999910593033; r^2: -23.701194763183594\n",
      "Epoch [5/30], Step [6/6], Training Loss: 151.0648\n",
      "Validation Loss: 141.82635498046875; Pearson correlation: -0.03999999910593033; r^2: -96.5289306640625\n",
      "Epoch [6/30], Step [6/6], Training Loss: 81.2058\n",
      "Validation Loss: 92.7572021484375; Pearson correlation: 0.03999999910593033; r^2: -40.71717071533203\n",
      "Epoch [7/30], Step [6/6], Training Loss: 68.5870\n",
      "Validation Loss: 66.86139678955078; Pearson correlation: 0.03999999910593033; r^2: -20.675569534301758\n"
     ]
    },
    {
     "ename": "KeyboardInterrupt",
     "evalue": "",
     "output_type": "error",
     "traceback": [
      "\u001b[0;31m---------------------------------------------------------------------------\u001b[0m",
      "\u001b[0;31mKeyboardInterrupt\u001b[0m                         Traceback (most recent call last)",
      "Input \u001b[0;32mIn [139]\u001b[0m, in \u001b[0;36m<cell line: 20>\u001b[0;34m()\u001b[0m\n\u001b[1;32m     20\u001b[0m \u001b[38;5;28;01mfor\u001b[39;00m epoch \u001b[38;5;129;01min\u001b[39;00m \u001b[38;5;28mrange\u001b[39m(num_epochs):\n\u001b[1;32m     22\u001b[0m     \u001b[38;5;28;01mfor\u001b[39;00m i, (x, y) \u001b[38;5;129;01min\u001b[39;00m \u001b[38;5;28menumerate\u001b[39m(dataloader):      \n\u001b[0;32m---> 24\u001b[0m         pred_y \u001b[38;5;241m=\u001b[39m \u001b[43mmodel\u001b[49m\u001b[43m(\u001b[49m\u001b[43mx\u001b[49m\u001b[43m)\u001b[49m\u001b[38;5;241m.\u001b[39mflatten()\n\u001b[1;32m     25\u001b[0m         loss \u001b[38;5;241m=\u001b[39m torch\u001b[38;5;241m.\u001b[39msqrt(criterion(pred_y, y))\n\u001b[1;32m     27\u001b[0m         optimizer\u001b[38;5;241m.\u001b[39mzero_grad()\n",
      "File \u001b[0;32m~/miniconda3/envs/torch_gpu/lib/python3.8/site-packages/torch/nn/modules/module.py:1102\u001b[0m, in \u001b[0;36mModule._call_impl\u001b[0;34m(self, *input, **kwargs)\u001b[0m\n\u001b[1;32m   1098\u001b[0m \u001b[38;5;66;03m# If we don't have any hooks, we want to skip the rest of the logic in\u001b[39;00m\n\u001b[1;32m   1099\u001b[0m \u001b[38;5;66;03m# this function, and just call forward.\u001b[39;00m\n\u001b[1;32m   1100\u001b[0m \u001b[38;5;28;01mif\u001b[39;00m \u001b[38;5;129;01mnot\u001b[39;00m (\u001b[38;5;28mself\u001b[39m\u001b[38;5;241m.\u001b[39m_backward_hooks \u001b[38;5;129;01mor\u001b[39;00m \u001b[38;5;28mself\u001b[39m\u001b[38;5;241m.\u001b[39m_forward_hooks \u001b[38;5;129;01mor\u001b[39;00m \u001b[38;5;28mself\u001b[39m\u001b[38;5;241m.\u001b[39m_forward_pre_hooks \u001b[38;5;129;01mor\u001b[39;00m _global_backward_hooks\n\u001b[1;32m   1101\u001b[0m         \u001b[38;5;129;01mor\u001b[39;00m _global_forward_hooks \u001b[38;5;129;01mor\u001b[39;00m _global_forward_pre_hooks):\n\u001b[0;32m-> 1102\u001b[0m     \u001b[38;5;28;01mreturn\u001b[39;00m \u001b[43mforward_call\u001b[49m\u001b[43m(\u001b[49m\u001b[38;5;241;43m*\u001b[39;49m\u001b[38;5;28;43minput\u001b[39;49m\u001b[43m,\u001b[49m\u001b[43m \u001b[49m\u001b[38;5;241;43m*\u001b[39;49m\u001b[38;5;241;43m*\u001b[39;49m\u001b[43mkwargs\u001b[49m\u001b[43m)\u001b[49m\n\u001b[1;32m   1103\u001b[0m \u001b[38;5;66;03m# Do not call functions when jit is used\u001b[39;00m\n\u001b[1;32m   1104\u001b[0m full_backward_hooks, non_full_backward_hooks \u001b[38;5;241m=\u001b[39m [], []\n",
      "Input \u001b[0;32mIn [129]\u001b[0m, in \u001b[0;36mConnectomeNet.forward\u001b[0;34m(self, x)\u001b[0m\n\u001b[1;32m     20\u001b[0m \u001b[38;5;28;01mdef\u001b[39;00m \u001b[38;5;21mforward\u001b[39m(\u001b[38;5;28mself\u001b[39m, x):\n\u001b[0;32m---> 21\u001b[0m     \u001b[38;5;28;01mreturn\u001b[39;00m \u001b[38;5;28;43mself\u001b[39;49m\u001b[38;5;241;43m.\u001b[39;49m\u001b[43mlayers\u001b[49m\u001b[43m(\u001b[49m\u001b[43mx\u001b[49m\u001b[43m)\u001b[49m\n",
      "File \u001b[0;32m~/miniconda3/envs/torch_gpu/lib/python3.8/site-packages/torch/nn/modules/module.py:1102\u001b[0m, in \u001b[0;36mModule._call_impl\u001b[0;34m(self, *input, **kwargs)\u001b[0m\n\u001b[1;32m   1098\u001b[0m \u001b[38;5;66;03m# If we don't have any hooks, we want to skip the rest of the logic in\u001b[39;00m\n\u001b[1;32m   1099\u001b[0m \u001b[38;5;66;03m# this function, and just call forward.\u001b[39;00m\n\u001b[1;32m   1100\u001b[0m \u001b[38;5;28;01mif\u001b[39;00m \u001b[38;5;129;01mnot\u001b[39;00m (\u001b[38;5;28mself\u001b[39m\u001b[38;5;241m.\u001b[39m_backward_hooks \u001b[38;5;129;01mor\u001b[39;00m \u001b[38;5;28mself\u001b[39m\u001b[38;5;241m.\u001b[39m_forward_hooks \u001b[38;5;129;01mor\u001b[39;00m \u001b[38;5;28mself\u001b[39m\u001b[38;5;241m.\u001b[39m_forward_pre_hooks \u001b[38;5;129;01mor\u001b[39;00m _global_backward_hooks\n\u001b[1;32m   1101\u001b[0m         \u001b[38;5;129;01mor\u001b[39;00m _global_forward_hooks \u001b[38;5;129;01mor\u001b[39;00m _global_forward_pre_hooks):\n\u001b[0;32m-> 1102\u001b[0m     \u001b[38;5;28;01mreturn\u001b[39;00m \u001b[43mforward_call\u001b[49m\u001b[43m(\u001b[49m\u001b[38;5;241;43m*\u001b[39;49m\u001b[38;5;28;43minput\u001b[39;49m\u001b[43m,\u001b[49m\u001b[43m \u001b[49m\u001b[38;5;241;43m*\u001b[39;49m\u001b[38;5;241;43m*\u001b[39;49m\u001b[43mkwargs\u001b[49m\u001b[43m)\u001b[49m\n\u001b[1;32m   1103\u001b[0m \u001b[38;5;66;03m# Do not call functions when jit is used\u001b[39;00m\n\u001b[1;32m   1104\u001b[0m full_backward_hooks, non_full_backward_hooks \u001b[38;5;241m=\u001b[39m [], []\n",
      "File \u001b[0;32m~/miniconda3/envs/torch_gpu/lib/python3.8/site-packages/torch/nn/modules/container.py:141\u001b[0m, in \u001b[0;36mSequential.forward\u001b[0;34m(self, input)\u001b[0m\n\u001b[1;32m    139\u001b[0m \u001b[38;5;28;01mdef\u001b[39;00m \u001b[38;5;21mforward\u001b[39m(\u001b[38;5;28mself\u001b[39m, \u001b[38;5;28minput\u001b[39m):\n\u001b[1;32m    140\u001b[0m     \u001b[38;5;28;01mfor\u001b[39;00m module \u001b[38;5;129;01min\u001b[39;00m \u001b[38;5;28mself\u001b[39m:\n\u001b[0;32m--> 141\u001b[0m         \u001b[38;5;28minput\u001b[39m \u001b[38;5;241m=\u001b[39m \u001b[43mmodule\u001b[49m\u001b[43m(\u001b[49m\u001b[38;5;28;43minput\u001b[39;49m\u001b[43m)\u001b[49m\n\u001b[1;32m    142\u001b[0m     \u001b[38;5;28;01mreturn\u001b[39;00m \u001b[38;5;28minput\u001b[39m\n",
      "File \u001b[0;32m~/miniconda3/envs/torch_gpu/lib/python3.8/site-packages/torch/nn/modules/module.py:1102\u001b[0m, in \u001b[0;36mModule._call_impl\u001b[0;34m(self, *input, **kwargs)\u001b[0m\n\u001b[1;32m   1098\u001b[0m \u001b[38;5;66;03m# If we don't have any hooks, we want to skip the rest of the logic in\u001b[39;00m\n\u001b[1;32m   1099\u001b[0m \u001b[38;5;66;03m# this function, and just call forward.\u001b[39;00m\n\u001b[1;32m   1100\u001b[0m \u001b[38;5;28;01mif\u001b[39;00m \u001b[38;5;129;01mnot\u001b[39;00m (\u001b[38;5;28mself\u001b[39m\u001b[38;5;241m.\u001b[39m_backward_hooks \u001b[38;5;129;01mor\u001b[39;00m \u001b[38;5;28mself\u001b[39m\u001b[38;5;241m.\u001b[39m_forward_hooks \u001b[38;5;129;01mor\u001b[39;00m \u001b[38;5;28mself\u001b[39m\u001b[38;5;241m.\u001b[39m_forward_pre_hooks \u001b[38;5;129;01mor\u001b[39;00m _global_backward_hooks\n\u001b[1;32m   1101\u001b[0m         \u001b[38;5;129;01mor\u001b[39;00m _global_forward_hooks \u001b[38;5;129;01mor\u001b[39;00m _global_forward_pre_hooks):\n\u001b[0;32m-> 1102\u001b[0m     \u001b[38;5;28;01mreturn\u001b[39;00m \u001b[43mforward_call\u001b[49m\u001b[43m(\u001b[49m\u001b[38;5;241;43m*\u001b[39;49m\u001b[38;5;28;43minput\u001b[39;49m\u001b[43m,\u001b[49m\u001b[43m \u001b[49m\u001b[38;5;241;43m*\u001b[39;49m\u001b[38;5;241;43m*\u001b[39;49m\u001b[43mkwargs\u001b[49m\u001b[43m)\u001b[49m\n\u001b[1;32m   1103\u001b[0m \u001b[38;5;66;03m# Do not call functions when jit is used\u001b[39;00m\n\u001b[1;32m   1104\u001b[0m full_backward_hooks, non_full_backward_hooks \u001b[38;5;241m=\u001b[39m [], []\n",
      "File \u001b[0;32m~/miniconda3/envs/torch_gpu/lib/python3.8/site-packages/torch/nn/modules/linear.py:103\u001b[0m, in \u001b[0;36mLinear.forward\u001b[0;34m(self, input)\u001b[0m\n\u001b[1;32m    102\u001b[0m \u001b[38;5;28;01mdef\u001b[39;00m \u001b[38;5;21mforward\u001b[39m(\u001b[38;5;28mself\u001b[39m, \u001b[38;5;28minput\u001b[39m: Tensor) \u001b[38;5;241m-\u001b[39m\u001b[38;5;241m>\u001b[39m Tensor:\n\u001b[0;32m--> 103\u001b[0m     \u001b[38;5;28;01mreturn\u001b[39;00m \u001b[43mF\u001b[49m\u001b[38;5;241;43m.\u001b[39;49m\u001b[43mlinear\u001b[49m\u001b[43m(\u001b[49m\u001b[38;5;28;43minput\u001b[39;49m\u001b[43m,\u001b[49m\u001b[43m \u001b[49m\u001b[38;5;28;43mself\u001b[39;49m\u001b[38;5;241;43m.\u001b[39;49m\u001b[43mweight\u001b[49m\u001b[43m,\u001b[49m\u001b[43m \u001b[49m\u001b[38;5;28;43mself\u001b[39;49m\u001b[38;5;241;43m.\u001b[39;49m\u001b[43mbias\u001b[49m\u001b[43m)\u001b[49m\n",
      "File \u001b[0;32m~/miniconda3/envs/torch_gpu/lib/python3.8/site-packages/torch/nn/functional.py:1848\u001b[0m, in \u001b[0;36mlinear\u001b[0;34m(input, weight, bias)\u001b[0m\n\u001b[1;32m   1846\u001b[0m \u001b[38;5;28;01mif\u001b[39;00m has_torch_function_variadic(\u001b[38;5;28minput\u001b[39m, weight, bias):\n\u001b[1;32m   1847\u001b[0m     \u001b[38;5;28;01mreturn\u001b[39;00m handle_torch_function(linear, (\u001b[38;5;28minput\u001b[39m, weight, bias), \u001b[38;5;28minput\u001b[39m, weight, bias\u001b[38;5;241m=\u001b[39mbias)\n\u001b[0;32m-> 1848\u001b[0m \u001b[38;5;28;01mreturn\u001b[39;00m \u001b[43mtorch\u001b[49m\u001b[38;5;241;43m.\u001b[39;49m\u001b[43m_C\u001b[49m\u001b[38;5;241;43m.\u001b[39;49m\u001b[43m_nn\u001b[49m\u001b[38;5;241;43m.\u001b[39;49m\u001b[43mlinear\u001b[49m\u001b[43m(\u001b[49m\u001b[38;5;28;43minput\u001b[39;49m\u001b[43m,\u001b[49m\u001b[43m \u001b[49m\u001b[43mweight\u001b[49m\u001b[43m,\u001b[49m\u001b[43m \u001b[49m\u001b[43mbias\u001b[49m\u001b[43m)\u001b[49m\n",
      "\u001b[0;31mKeyboardInterrupt\u001b[0m: "
     ]
    }
   ],
   "source": [
    "model = ConnectomeNet(x_train.size()[1], 5000)\n",
    "\n",
    "lr = 1e-6\n",
    "weight_decay = 1e-5\n",
    "num_epochs = 30\n",
    "batch_size = 128\n",
    "\n",
    "dataset = TensorDataset(x_train,y_train) \n",
    "dataloader = DataLoader(dataset, batch_size = batch_size)\n",
    "total_step = len(dataloader)\n",
    "\n",
    "optimizer = optim.Adam(\n",
    "    model.parameters(), \n",
    "    lr=lr,\n",
    "    weight_decay=weight_decay\n",
    ")\n",
    "criterion = nn.MSELoss()\n",
    "eval_metric = PearsonCorrCoef()\n",
    "\n",
    "for epoch in range(num_epochs):\n",
    "    \n",
    "    for i, (x, y) in enumerate(dataloader):      \n",
    "        \n",
    "        pred_y = model(x).flatten()\n",
    "        loss = torch.sqrt(criterion(pred_y, y))\n",
    "        \n",
    "        optimizer.zero_grad()\n",
    "        loss.backward()\n",
    "        optimizer.step()\n",
    "        \n",
    "        if (i+1) % total_step == 0:\n",
    "            print('Epoch [{}/{}], Step [{}/{}], Training Loss: {:.4f}'.format(\n",
    "                epoch+1, num_epochs, \n",
    "                i+1, total_step, \n",
    "                loss.item()\n",
    "            ))\n",
    "            \n",
    "            with torch.no_grad():\n",
    "                \n",
    "                correlation = eval_metric(model(X_val).flatten(), y_val)\n",
    "                pred_val = model(X_val).flatten()\n",
    "                val_loss = torch.sqrt(criterion(pred_val, y_val))\n",
    "\n",
    "                print('Validation Loss: {}; Pearson correlation: {}; r^2: {}'.format(\n",
    "                    val_loss.item(), np.round(correlation, 2), r2_loss(pred_val, y_val)\n",
    "                ))"
   ]
  },
  {
   "cell_type": "code",
   "execution_count": 122,
   "id": "646b4e17-6ceb-46a4-85a7-23c8823d54f9",
   "metadata": {},
   "outputs": [
    {
     "name": "stdout",
     "output_type": "stream",
     "text": [
      "Validation Loss: 23.487323760986328; Pearson correlation: 0.17000000178813934\n",
      "tensor(0.0538, grad_fn=<SqueezeBackward0>) tensor(0.2398, grad_fn=<SqueezeBackward0>)\n",
      "  subgroup  independence  separation  sufficiency\n",
      "0     Male      1.020399    1.016948     1.003931\n"
     ]
    },
    {
     "data": {
      "text/plain": [
       "<matplotlib.legend.Legend at 0x7f16e5ca0430>"
      ]
     },
     "execution_count": 122,
     "metadata": {},
     "output_type": "execute_result"
    },
    {
     "data": {
      "image/png": "[encoded data removed]",
      "text/plain": [
       "<Figure size 432x288 with 1 Axes>"
      ]
     },
     "metadata": {
      "needs_background": "light"
     },
     "output_type": "display_data"
    }
   ],
   "source": [
    "correlation = eval_metric(model(X_val).flatten(), y_val).detach().numpy()\n",
    "pred_val = model(X_val).flatten()\n",
    "\n",
    "val_loss = torch.sqrt(criterion(pred_val, y_val))\n",
    "\n",
    "print('Validation Loss: {}; Pearson correlation: {}'.format(val_loss.item(), np.round(correlation, 2)))\n",
    "\n",
    "x_m = y_val[gender_val==1]\n",
    "y_m = pred_val[gender_val==1].detach().numpy()\n",
    "\n",
    "plt.scatter(x_m, y_m, label=\"Male\")\n",
    "\n",
    "x_f = y_val[gender_val==0]\n",
    "y_f = pred_val[gender_val==0].detach().numpy()\n",
    "\n",
    "plt.scatter(x_f, y_f, label=\"Female\")\n",
    "\n",
    "print(eval_metric(pred_val[gender_val==1], y_val[gender_val==1]), eval_metric(pred_val[gender_val==0], y_val[gender_val==0]))\n",
    "\n",
    "print(calculate_regression_measures(y_val, pred_val.detach().numpy(), gender_val))\n",
    "\n",
    "\n",
    "plt.title(\"\")\n",
    "plt.xlabel(\"True Score\")\n",
    "plt.ylabel(\"Predicted Score\")\n",
    "plt.legend()"
   ]
  },
  {
   "cell_type": "code",
   "execution_count": 37,
   "id": "dc129d86-e831-494f-8504-ea0a1412cea8",
   "metadata": {},
   "outputs": [
    {
     "data": {
      "text/plain": [
       "(array([2., 5., 1., 3., 3., 7., 3., 2., 3., 2., 7., 4., 5., 4., 2., 6., 4.,\n",
       "        3., 3., 2., 9., 1., 1., 0., 0., 4., 0., 0., 2., 1.]),\n",
       " array([ 93.41    ,  95.40834 ,  97.40667 ,  99.40501 , 101.403336,\n",
       "        103.40167 , 105.4     , 107.39834 , 109.39667 , 111.395004,\n",
       "        113.39333 , 115.39167 , 117.39    , 119.388336, 121.386665,\n",
       "        123.385   , 125.38334 , 127.38167 , 129.38    , 131.37834 ,\n",
       "        133.37666 , 135.375   , 137.37334 , 139.37167 , 141.37    ,\n",
       "        143.36833 , 145.36667 , 147.365   , 149.36333 , 151.36166 ,\n",
       "        153.36    ], dtype=float32),\n",
       " <BarContainer object of 30 artists>)"
      ]
     },
     "execution_count": 37,
     "metadata": {},
     "output_type": "execute_result"
    },
    {
     "data": {
      "image/png": "[encoded data removed]",
      "text/plain": [
       "<Figure size 432x288 with 1 Axes>"
      ]
     },
     "metadata": {
      "needs_background": "light"
     },
     "output_type": "display_data"
    }
   ],
   "source": [
    "plt.hist(y_f,bins= 30 ,alpha= 0.5)\n",
    "plt.hist(x_f, bins= 30 ,alpha= 0.5)"
   ]
  },
  {
   "cell_type": "code",
   "execution_count": 121,
   "id": "ef8f5a82-0689-4efc-8b03-2ec6bd8ab942",
   "metadata": {},
   "outputs": [
    {
     "name": "stdout",
     "output_type": "stream",
     "text": [
      "tensor(-1.6071, grad_fn=<RsubBackward1>)\n",
      "Test Loss: 2.32363876714939; Pearson correlation - -0.029999999329447746\n",
      "MSE: male; tensor(422.7225, grad_fn=<MseLossBackward0>)\n",
      "MSE: female; 435.46024\n",
      "tensor(0.2205, grad_fn=<SqueezeBackward0>) tensor(0.2373, grad_fn=<SqueezeBackward0>)\n",
      "  subgroup  independence  separation  sufficiency\n",
      "0     Male      1.051169     1.04639     1.000328\n"
     ]
    },
    {
     "data": {
      "text/plain": [
       "<matplotlib.legend.Legend at 0x7f16e5d2b8e0>"
      ]
     },
     "execution_count": 121,
     "metadata": {},
     "output_type": "execute_result"
    },
    {
     "data": {
      "image/png": "[encoded data removed]",
      "text/plain": [
       "<Figure size 432x288 with 1 Axes>"
      ]
     },
     "metadata": {
      "needs_background": "light"
     },
     "output_type": "display_data"
    }
   ],
   "source": [
    "pred_test = model(X_test).flatten()\n",
    "test_loss = criterion(preds, y_test)\n",
    "correlation = eval_metric(preds, y_test).detach().numpy()\n",
    "\n",
    "print(r2_loss(preds, y_test))\n",
    "\n",
    "print('Test Loss: {}; Pearson correlation - {}'.format(test_loss.item()/len(pred_test), np.round(correlation, 2)))\n",
    "\n",
    "x = y_test[gender_test==1].numpy()\n",
    "y = pred_test[gender_test==1].detach().numpy()\n",
    "\n",
    "print(\"MSE: male;\", criterion(y_test[gender_test==1],pred_test[gender_test==1] ))\n",
    "\n",
    "plt.scatter(x, y, label=\"Male\")\n",
    "\n",
    "x = y_test[gender_test==0].numpy()\n",
    "y = pred_test[gender_test==0].detach().numpy()\n",
    "\n",
    "\n",
    "print(\"MSE: female;\", ( np.mean((x - y)**2)))\n",
    "\n",
    "print(\n",
    "    eval_metric(pred_test[gender_test==1], y_test[gender_test==1]),\n",
    "  eval_metric(pred_test[gender_test==0], y_test[gender_test==0])\n",
    "     )\n",
    "print(calculate_regression_measures(y_test, pred_test.detach().numpy(), gender_test))\n",
    "\n",
    "\n",
    "plt.scatter(x, y, label=\"Female\")\n",
    "\n",
    "plt.xlabel(\"True Score\")\n",
    "plt.ylabel(\"Predicted Score\")\n",
    "plt.legend()"
   ]
  },
  {
   "cell_type": "code",
   "execution_count": 117,
   "id": "09395f86-bb27-4264-840a-28dff12f5c45",
   "metadata": {},
   "outputs": [
    {
     "data": {
      "text/plain": [
       "1.1111111111111112"
      ]
     },
     "execution_count": 117,
     "metadata": {},
     "output_type": "execute_result"
    }
   ],
   "source": [
    "1/0.9"
   ]
  },
  {
   "cell_type": "code",
   "execution_count": 41,
   "id": "e1e8378a-c456-4e7b-b364-01c9cbfac812",
   "metadata": {},
   "outputs": [],
   "source": [
    "## Fairness Check \n",
    "\n",
    "from sklearn.linear_model import LogisticRegression\n",
    "\n",
    "def calculate_regression_measures(y, y_hat, protected, privileged):\n",
    "\n",
    "    unique_protected = np.unique(protected)\n",
    "    unique_unprivileged = unique_protected[unique_protected != privileged]\n",
    "\n",
    "    data = pd.DataFrame(columns=['subgroup', 'independence', 'separation', 'sufficiency'])\n",
    "\n",
    "    \n",
    "    for unprivileged in unique_unprivileged:\n",
    "        # filter elements\n",
    "        \n",
    "        array_elements = np.isin(protected, [privileged, unprivileged])\n",
    "\n",
    "        y_u = ((y[array_elements] - y[array_elements].mean()) / y[array_elements].std()).reshape(-1, 1)\n",
    "        s_u = ((y_hat[array_elements] - y_hat[array_elements].mean()) / y_hat[array_elements].std()).reshape(-1, 1)\n",
    "\n",
    "        a = np.where(protected[array_elements] == privileged, 1, 0)\n",
    "\n",
    "        p_s = LogisticRegression()\n",
    "        p_ys = LogisticRegression()\n",
    "        p_y = LogisticRegression()\n",
    "        \n",
    "        p_s.fit(s_u, a)\n",
    "        p_y.fit(y_u, a)\n",
    "        p_ys.fit(np.c_[y_u, s_u], a)\n",
    "\n",
    "        pred_p_s = p_s.predict_proba(s_u.reshape(-1, 1))[:, 1]\n",
    "        pred_p_y = p_y.predict_proba(y_u.reshape(-1, 1))[:, 1]\n",
    "        pred_p_ys = p_ys.predict_proba(np.c_[y_u, s_u])[:, 1]\n",
    "\n",
    "        n = len(a)\n",
    "\n",
    "        r_ind = ((n - a.sum()) / a.sum()) * (pred_p_s / (1 - pred_p_s)).mean()\n",
    "        r_sep = ((pred_p_ys / (1 - pred_p_ys) * (1 - pred_p_y) / pred_p_y)).mean()\n",
    "        r_suf = ((pred_p_ys / (1 - pred_p_ys)) * ((1 - pred_p_s) / pred_p_s)).mean()\n",
    "\n",
    "        to_append = pd.DataFrame({'subgroup': [unprivileged],\n",
    "                                  'independence': [r_ind],\n",
    "                                  'separation': [r_sep],\n",
    "                                  'sufficiency': [r_suf]})\n",
    "\n",
    "        data = pd.concat([data, to_append])\n",
    "\n",
    "    # append the scale\n",
    "    to_append = pd.DataFrame({'subgroup': [privileged],\n",
    "                              'independence': [1],\n",
    "                              'separation': [1],\n",
    "                              'sufficiency': [1]})\n",
    "    ## TODO: this should be uncommented but adds blanks to the plots\n",
    "    # data = pd.concat([data, to_append]) \n",
    "\n",
    "    data.index = data.subgroup\n",
    "    data = data.iloc[:, 1:]\n",
    "    return data\n"
   ]
  },
  {
   "cell_type": "code",
   "execution_count": 75,
   "id": "60dc6c2c-3ca9-4743-b777-ad9502442b10",
   "metadata": {},
   "outputs": [],
   "source": [
    "data = pd.DataFrame(columns=['subgroup', 'independence', 'separation', 'sufficiency'])\n",
    "\n",
    "\n",
    "y = y_test\n",
    "y_hat = preds.detach().cpu().numpy()\n",
    "\n",
    "array_elements = (gender_test).nonzero()\n",
    "\n",
    "y_u = ((y[array_elements] - y[array_elements].mean()) / y[array_elements].std()).reshape(-1, 1)\n",
    "s_u = ((y_hat[array_elements] - y_hat[array_elements].mean()) / y_hat[array_elements].std()).reshape(-1, 1)\n",
    "\n",
    "# a = np.where(protected[array_elements] == privileged, 1, 0)\n",
    "a = np.where(gender_test== \"M\", 1, 0)\n",
    "\n",
    "p_s = LogisticRegression()\n",
    "p_ys = LogisticRegression()\n",
    "p_y = LogisticRegression()\n",
    "\n",
    "p_s.fit(s_u, a)\n",
    "p_y.fit(y_u, a)\n",
    "p_ys.fit(np.c_[y_u, s_u], a)\n",
    "\n",
    "pred_p_s = p_s.predict_proba(s_u.reshape(-1, 1))[:, 1]\n",
    "pred_p_y = p_y.predict_proba(y_u.reshape(-1, 1))[:, 1]\n",
    "pred_p_ys = p_ys.predict_proba(np.c_[y_u, s_u])[:, 1]\n",
    "\n",
    "n = len(a)\n",
    "\n",
    "r_ind = ((n - a.sum()) / a.sum()) * (pred_p_s / (1 - pred_p_s)).mean()\n",
    "r_sep = ((pred_p_ys / (1 - pred_p_ys) * (1 - pred_p_y) / pred_p_y)).mean()\n",
    "r_suf = ((pred_p_ys / (1 - pred_p_ys)) * ((1 - pred_p_s) / pred_p_s)).mean()\n",
    "\n",
    "to_append = pd.DataFrame({'subgroup': \"F\",\n",
    "                          'independence': [r_ind],\n",
    "                          'separation': [r_sep],\n",
    "                          'sufficiency': [r_suf]})\n",
    "\n",
    "data = pd.concat([data, to_append])"
   ]
  },
  {
   "cell_type": "code",
   "execution_count": 76,
   "id": "87d49575-eb00-4196-be65-3d376ea706f8",
   "metadata": {},
   "outputs": [
    {
     "data": {
      "text/html": [
       "<div>\n",
       "<style scoped>\n",
       "    .dataframe tbody tr th:only-of-type {\n",
       "        vertical-align: middle;\n",
       "    }\n",
       "\n",
       "    .dataframe tbody tr th {\n",
       "        vertical-align: top;\n",
       "    }\n",
       "\n",
       "    .dataframe thead th {\n",
       "        text-align: right;\n",
       "    }\n",
       "</style>\n",
       "<table border=\"1\" class=\"dataframe\">\n",
       "  <thead>\n",
       "    <tr style=\"text-align: right;\">\n",
       "      <th></th>\n",
       "      <th>subgroup</th>\n",
       "      <th>independence</th>\n",
       "      <th>separation</th>\n",
       "      <th>sufficiency</th>\n",
       "    </tr>\n",
       "  </thead>\n",
       "  <tbody>\n",
       "    <tr>\n",
       "      <th>0</th>\n",
       "      <td>F</td>\n",
       "      <td>1.081215</td>\n",
       "      <td>1.055357</td>\n",
       "      <td>1.038829</td>\n",
       "    </tr>\n",
       "  </tbody>\n",
       "</table>\n",
       "</div>"
      ],
      "text/plain": [
       "  subgroup  independence  separation  sufficiency\n",
       "0        F      1.081215    1.055357     1.038829"
      ]
     },
     "execution_count": 76,
     "metadata": {},
     "output_type": "execute_result"
    }
   ],
   "source": [
    "data"
   ]
  },
  {
   "cell_type": "code",
   "execution_count": null,
   "id": "1701584d-880f-4d88-bb4d-96d144b97bb7",
   "metadata": {},
   "outputs": [],
   "source": []
  }
 ],
 "metadata": {
  "kernelspec": {
   "display_name": "Python 3 (ipykernel)",
   "language": "python",
   "name": "python3"
  },
  "language_info": {
   "codemirror_mode": {
    "name": "ipython",
    "version": 3
   },
   "file_extension": ".py",
   "mimetype": "text/x-python",
   "name": "python",
   "nbconvert_exporter": "python",
   "pygments_lexer": "ipython3",
   "version": "3.8.13"
  }
 },
 "nbformat": 4,
 "nbformat_minor": 5
}
